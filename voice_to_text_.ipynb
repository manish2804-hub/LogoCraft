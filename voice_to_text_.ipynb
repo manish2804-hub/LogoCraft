{
  "nbformat": 4,
  "nbformat_minor": 0,
  "metadata": {
    "colab": {
      "provenance": [],
      "authorship_tag": "ABX9TyM+nkjvCaA5chUOpRgcVICf",
      "include_colab_link": true
    },
    "kernelspec": {
      "name": "python3",
      "display_name": "Python 3"
    },
    "language_info": {
      "name": "python"
    }
  },
  "cells": [
    {
      "cell_type": "markdown",
      "metadata": {
        "id": "view-in-github",
        "colab_type": "text"
      },
      "source": [
        "<a href=\"https://colab.research.google.com/github/manish2804-hub/LogoCraft/blob/main/voice_to_text_.ipynb\" target=\"_parent\"><img src=\"https://colab.research.google.com/assets/colab-badge.svg\" alt=\"Open In Colab\"/></a>"
      ]
    },
    {
      "cell_type": "code",
      "execution_count": null,
      "metadata": {
        "id": "dyab9r2YGDB6"
      },
      "outputs": [],
      "source": []
    },
    {
      "cell_type": "markdown",
      "source": [
        "index.html\n"
      ],
      "metadata": {
        "id": "mvRftQf7GEZr"
      }
    },
    {
      "source": [
        "from IPython.display import HTML\n",
        "html_code = \"\"\"\n",
        "<!DOCTYPE html>\n",
        "<html lang=\"en\">\n",
        "<head>\n",
        "    <meta charset=\"UTF-8\">\n",
        "    <meta name=\"viewport\" content=\"width=device-width, initial-scale=1.0\">\n",
        "    <title>Voice to Text Converter</title>\n",
        "    <link rel=\"stylesheet\" href=\"styles.css\">\n",
        "</head>\n",
        "<body>\n",
        "    <div class=\"container\">\n",
        "        <h1>Voice to Text Converter</h1>\n",
        "        <button id=\"recordButton\">Start Recording</button>\n",
        "        <p id=\"status\">Press the button to start recording...</p>\n",
        "        <div id=\"output\" class=\"output-box\"></div>\n",
        "    </div>\n",
        "    <script src=\"script.js\"></script>\n",
        "</body>\n",
        "</html>\n",
        "\"\"\"\n",
        "display(HTML(html_code))"
      ],
      "cell_type": "code",
      "metadata": {
        "colab": {
          "resources": {
            "http://localhost:8080/styles.css": {
              "data": "",
              "ok": false,
              "headers": [
                [
                  "content-length",
                  "0"
                ]
              ],
              "status": 404,
              "status_text": ""
            },
            "http://localhost:8080/script.js": {
              "data": "",
              "ok": false,
              "headers": [
                [
                  "content-length",
                  "0"
                ]
              ],
              "status": 404,
              "status_text": ""
            }
          },
          "base_uri": "https://localhost:8080/",
          "height": 126
        },
        "id": "T4BEyphwHAHA",
        "outputId": "555516ce-d60d-48a3-d963-a6b833ebd070"
      },
      "execution_count": 3,
      "outputs": [
        {
          "output_type": "display_data",
          "data": {
            "text/plain": [
              "<IPython.core.display.HTML object>"
            ],
            "text/html": [
              "\n",
              "<!DOCTYPE html>\n",
              "<html lang=\"en\">\n",
              "<head>\n",
              "    <meta charset=\"UTF-8\">\n",
              "    <meta name=\"viewport\" content=\"width=device-width, initial-scale=1.0\">\n",
              "    <title>Voice to Text Converter</title>\n",
              "    <link rel=\"stylesheet\" href=\"styles.css\">\n",
              "</head>\n",
              "<body>\n",
              "    <div class=\"container\">\n",
              "        <h1>Voice to Text Converter</h1>\n",
              "        <button id=\"recordButton\">Start Recording</button>\n",
              "        <p id=\"status\">Press the button to start recording...</p>\n",
              "        <div id=\"output\" class=\"output-box\"></div>\n",
              "    </div>\n",
              "    <script src=\"script.js\"></script>\n",
              "</body>\n",
              "</html>\n"
            ]
          },
          "metadata": {}
        }
      ]
    },
    {
      "cell_type": "markdown",
      "source": [
        "styles.css\n"
      ],
      "metadata": {
        "id": "hFmT78b2HGSl"
      }
    },
    {
      "source": [
        "from IPython.display import HTML\n",
        "\n",
        "html_code = \"\"\"\n",
        "<!DOCTYPE html>\n",
        "<html lang=\"en\">\n",
        "<head>\n",
        "    <meta charset=\"UTF-8\">\n",
        "    <meta name=\"viewport\" content=\"width=device-width, initial-scale=1.0\">\n",
        "    <title>Voice to Text Converter</title>\n",
        "    <style>\n",
        "        body {\n",
        "            font-family: Arial, sans-serif;\n",
        "            background-color: #f0f0f0;\n",
        "            display: flex;\n",
        "            justify-content: center;\n",
        "            align-items: center;\n",
        "            height: 100vh;\n",
        "            margin: 0;\n",
        "        }\n",
        "\n",
        "        /* ... (rest of your CSS code) ... */\n",
        "\n",
        "    </style>\n",
        "</head>\n",
        "<body>\n",
        "    <div class=\"container\">\n",
        "        <h1>Voice to Text Converter</h1>\n",
        "        <button id=\"recordButton\">Start Recording</button>\n",
        "        <p id=\"status\">Press the button to start recording...</p>\n",
        "        <div id=\"output\" class=\"output-box\"></div>\n",
        "    </div>\n",
        "    <script src=\"script.js\"></script>\n",
        "</body>\n",
        "</html>\n",
        "\"\"\"\n",
        "\n",
        "display(HTML(html_code))"
      ],
      "cell_type": "code",
      "metadata": {
        "colab": {
          "resources": {
            "http://localhost:8080/script.js": {
              "data": "",
              "ok": false,
              "headers": [
                [
                  "content-length",
                  "0"
                ]
              ],
              "status": 404,
              "status_text": ""
            }
          },
          "base_uri": "https://localhost:8080/",
          "height": 1000
        },
        "id": "WCpTEWqpH5Du",
        "outputId": "74a9b37b-2c43-4239-bbda-1c805b12e3e3"
      },
      "execution_count": 7,
      "outputs": [
        {
          "output_type": "display_data",
          "data": {
            "text/plain": [
              "<IPython.core.display.HTML object>"
            ],
            "text/html": [
              "\n",
              "<!DOCTYPE html>\n",
              "<html lang=\"en\">\n",
              "<head>\n",
              "    <meta charset=\"UTF-8\">\n",
              "    <meta name=\"viewport\" content=\"width=device-width, initial-scale=1.0\">\n",
              "    <title>Voice to Text Converter</title>\n",
              "    <style>\n",
              "        body {\n",
              "            font-family: Arial, sans-serif;\n",
              "            background-color: #f0f0f0;\n",
              "            display: flex;\n",
              "            justify-content: center;\n",
              "            align-items: center;\n",
              "            height: 100vh;\n",
              "            margin: 0;\n",
              "        }\n",
              "\n",
              "        /* ... (rest of your CSS code) ... */\n",
              "\n",
              "    </style>\n",
              "</head>\n",
              "<body>\n",
              "    <div class=\"container\">\n",
              "        <h1>Voice to Text Converter</h1>\n",
              "        <button id=\"recordButton\">Start Recording</button>\n",
              "        <p id=\"status\">Press the button to start recording...</p>\n",
              "        <div id=\"output\" class=\"output-box\"></div>\n",
              "    </div>\n",
              "    <script src=\"script.js\"></script>\n",
              "</body>\n",
              "</html>\n"
            ]
          },
          "metadata": {}
        }
      ]
    },
    {
      "cell_type": "markdown",
      "source": [
        "javascript\n"
      ],
      "metadata": {
        "id": "PS0QcVC8INd3"
      }
    },
    {
      "source": [
        "%%html\n",
        "<!DOCTYPE html>\n",
        "<html>\n",
        "<head>\n",
        "    <title>Voice to Text Converter</title>\n",
        "</head>\n",
        "<body>\n",
        "    <div class=\"container\">\n",
        "        <h1>Voice to Text Converter</h1>\n",
        "        <button id=\"recordButton\">Start Recording</button>\n",
        "        <p id=\"status\">Press the button to start recording...</p>\n",
        "        <div id=\"output\" class=\"output-box\"></div>\n",
        "    </div>\n",
        "    <script>\n",
        "        // Your JavaScript code here... (Paste your original JavaScript code)\n",
        "        // Check if the browser supports the Web Speech API\n",
        "        const SpeechRecognition = window.SpeechRecognition || window.webkitSpeechRecognition;\n",
        "\n",
        "        if (!SpeechRecognition) {\n",
        "            alert(\"Sorry, your browser doesn't support the Web Speech API. Try using Chrome or Firefox.\");\n",
        "        } else {\n",
        "            // ... (rest of your JavaScript code)\n",
        "        }\n",
        "    </script>\n",
        "</body>\n",
        "</html>"
      ],
      "cell_type": "code",
      "metadata": {
        "colab": {
          "base_uri": "https://localhost:8080/",
          "height": 126
        },
        "id": "2fi_UbFwImPp",
        "outputId": "46293572-b848-4f3f-b808-67580ba7e755"
      },
      "execution_count": 9,
      "outputs": [
        {
          "output_type": "display_data",
          "data": {
            "text/plain": [
              "<IPython.core.display.HTML object>"
            ],
            "text/html": [
              "<!DOCTYPE html>\n",
              "<html>\n",
              "<head>\n",
              "    <title>Voice to Text Converter</title>\n",
              "</head>\n",
              "<body>\n",
              "    <div class=\"container\">\n",
              "        <h1>Voice to Text Converter</h1>\n",
              "        <button id=\"recordButton\">Start Recording</button>\n",
              "        <p id=\"status\">Press the button to start recording...</p>\n",
              "        <div id=\"output\" class=\"output-box\"></div>\n",
              "    </div>\n",
              "    <script>\n",
              "        // Your JavaScript code here... (Paste your original JavaScript code)\n",
              "        // Check if the browser supports the Web Speech API\n",
              "        const SpeechRecognition = window.SpeechRecognition || window.webkitSpeechRecognition;\n",
              "\n",
              "        if (!SpeechRecognition) {\n",
              "            alert(\"Sorry, your browser doesn't support the Web Speech API. Try using Chrome or Firefox.\");\n",
              "        } else {\n",
              "            // ... (rest of your JavaScript code)\n",
              "        }\n",
              "    </script>\n",
              "</body>\n",
              "</html>\n"
            ]
          },
          "metadata": {}
        }
      ]
    },
    {
      "cell_type": "markdown",
      "source": [
        "backend (app.py)\n"
      ],
      "metadata": {
        "id": "sK1SR3oYIrTZ"
      }
    },
    {
      "source": [
        "!pip install SpeechRecognition==3.9.0\n",
        "\n",
        "from flask import Flask, request, jsonify\n",
        "from flask_cors import CORS\n",
        "import speech_recognition as sr\n",
        "import os\n",
        "\n",
        "# ... (rest of your code)"
      ],
      "cell_type": "code",
      "metadata": {
        "colab": {
          "base_uri": "https://localhost:8080/"
        },
        "id": "cPcuftriJVVQ",
        "outputId": "321833ca-9b8b-4da0-d615-b6acb40943ad"
      },
      "execution_count": 14,
      "outputs": [
        {
          "output_type": "stream",
          "name": "stdout",
          "text": [
            "Collecting SpeechRecognition==3.9.0\n",
            "  Downloading SpeechRecognition-3.9.0-py2.py3-none-any.whl.metadata (30 kB)\n",
            "Requirement already satisfied: requests>=2.26.0 in /usr/local/lib/python3.11/dist-packages (from SpeechRecognition==3.9.0) (2.32.3)\n",
            "Requirement already satisfied: charset-normalizer<4,>=2 in /usr/local/lib/python3.11/dist-packages (from requests>=2.26.0->SpeechRecognition==3.9.0) (3.4.1)\n",
            "Requirement already satisfied: idna<4,>=2.5 in /usr/local/lib/python3.11/dist-packages (from requests>=2.26.0->SpeechRecognition==3.9.0) (3.10)\n",
            "Requirement already satisfied: urllib3<3,>=1.21.1 in /usr/local/lib/python3.11/dist-packages (from requests>=2.26.0->SpeechRecognition==3.9.0) (2.3.0)\n",
            "Requirement already satisfied: certifi>=2017.4.17 in /usr/local/lib/python3.11/dist-packages (from requests>=2.26.0->SpeechRecognition==3.9.0) (2025.1.31)\n",
            "Downloading SpeechRecognition-3.9.0-py2.py3-none-any.whl (32.8 MB)\n",
            "\u001b[2K   \u001b[90m━━━━━━━━━━━━━━━━━━━━━━━━━━━━━━━━━━━━━━━━\u001b[0m \u001b[32m32.8/32.8 MB\u001b[0m \u001b[31m48.5 MB/s\u001b[0m eta \u001b[36m0:00:00\u001b[0m\n",
            "\u001b[?25hInstalling collected packages: SpeechRecognition\n",
            "Successfully installed SpeechRecognition-3.9.0\n"
          ]
        }
      ]
    },
    {
      "cell_type": "code",
      "source": [
        "from flask import Flask, request, jsonify\n",
        "from flask_cors import CORS\n",
        "import speech_recognition as sr\n",
        "import os\n",
        "\n",
        "# Initialize Flask app\n",
        "app = Flask(__name__)\n",
        "CORS(app)  # Enable CORS to allow frontend requests\n",
        "\n",
        "# Define the transcription endpoint\n",
        "@app.route('/transcribe', methods=['POST'])\n",
        "def transcribe_audio():\n",
        "    # Check if an audio file was sent\n",
        "    if 'audio' not in request.files:\n",
        "        return jsonify({'error': 'No audio file provided'}), 400\n",
        "\n",
        "    # Save the uploaded audio file temporarily\n",
        "    audio_file = request.files['audio']\n",
        "    audio_path = 'temp_audio.webm'\n",
        "    audio_file.save(audio_path)\n",
        "\n",
        "    # Initialize the recognizer\n",
        "    recognizer = sr.Recognizer()\n",
        "\n",
        "    # Process the audio file\n",
        "    try:\n",
        "        with sr.AudioFile(audio_path) as source:\n",
        "            audio_data = recognizer.record(source)\n",
        "            # Use Google Speech-to-Text API (free tier, no key needed for small use)\n",
        "            text = recognizer.recognize_google(audio_data)\n",
        "    except sr.UnknownValueError:\n",
        "        text = \"Could not understand the audio\"\n",
        "    except sr.RequestError as e:\n",
        "        text = f\"API request failed: {e}\"\n",
        "    except Exception as e:\n",
        "        text = f\"Error processing audio: {e}\"\n",
        "    finally:\n",
        "        # Clean up the temporary file\n",
        "        if os.path.exists(audio_path):\n",
        "            os.remove(audio_path)\n",
        "\n",
        "    # Return the transcribed text as JSON\n",
        "    return jsonify({'text': text})\n",
        "\n",
        "# Run the server\n",
        "if __name__ == '_main_':\n",
        "    app.run(debug=True, host='0.0.0.0', port=8080)"
      ],
      "metadata": {
        "id": "tTuu_XnHJe94"
      },
      "execution_count": 15,
      "outputs": []
    }
  ]
}